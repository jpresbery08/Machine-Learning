{
 "cells": [
  {
   "cell_type": "markdown",
   "metadata": {},
   "source": [
    "# CSCI405: Artificial Intelligence\n",
    "## Module 3\n",
    "## Assignment 6: Classification System Metrics\n",
    "\n",
    "#### Name: Jermaine Presbery\n",
    "\n",
    "Begin by writing your name above."
   ]
  },
  {
   "cell_type": "markdown",
   "metadata": {},
   "source": [
    "# Introduction\n",
    "\n",
    "The purpose of this assignment is to familiarize you with the metrics used to measure prediction performance in classification systems.  Suppose there 20 binary observations whose target values are:\n",
    "\n",
    "$$[1, 0, 0, 1, 0, 0, 1, 0, 0, 1, 1, 0, 0, 0, 0, 1, 0, 1, 0, 1]$$\n",
    "\n",
    "Suppose that your machine learning model returns prediction probabilities ([predict_proba()](https://scikit-learn.org/stable/modules/generated/sklearn.linear_model.LogisticRegression.html#sklearn.linear_model.LogisticRegression.predict_proba) in sklearn) of:\n",
    "\n",
    "$$[0.886, 0.375, 0.174, 0.817, 0.574, 0.319, 0.812, 0.314, 0.098, 0.741, 0.847, 0.202, 0.31 , 0.073, 0.179, 0.917, 0.64 , 0.388, 0.116, 0.72]$$\n",
    "\n"
   ]
  },
  {
   "cell_type": "markdown",
   "metadata": {},
   "source": [
    "# Calculate Model Predictions\n",
    "\n",
    "Begin by writing a function from scratch called `predict()` that accepts as input a list of prediction probabilities and a threshold value, and computes the final predictions to be output by the model.  If a prediction probability value is less than or equal to the threshold value, then the prediction is the negative case (i.e. 0).  If a prediction probability value is greater than the threshold value, then the prediction is the positive case (i.e. 1)."
   ]
  },
  {
   "cell_type": "code",
   "execution_count": 1,
   "metadata": {},
   "outputs": [],
   "source": [
    "# Creating Model Prediction Function \n",
    "def predict(pred_Prob,threshold):\n",
    "    pred = []\n",
    "    for i in range(len(pred_Prob)):\n",
    "        if pred_Prob[i] >= threshold: \n",
    "            pred.append(1)  #Adds 1 too list \n",
    "        else:\n",
    "            pred.append(0)  # Adds 0 too list \n",
    "    return pred"
   ]
  },
  {
   "cell_type": "markdown",
   "metadata": {},
   "source": [
    "Next, invoke the `predict()` function to calculate the model predictions using the threshold value of 0.5.  Create a variable called `thresh` that has the value 0.5, and create a list of all the prediction probabilities listed in the problem statement above. Name the list of provided prediction probablities `probs`, the threshold value `thresh`, and the list of computed model predictions `preds` in your code."
   ]
  },
  {
   "cell_type": "code",
   "execution_count": 2,
   "metadata": {},
   "outputs": [
    {
     "name": "stdout",
     "output_type": "stream",
     "text": [
      "Model Predictions:  [1, 0, 0, 1, 1, 0, 1, 0, 0, 1, 1, 0, 0, 0, 0, 1, 1, 0, 0, 1]\n"
     ]
    }
   ],
   "source": [
    "probs = [0.886,0.375,0.174,0.817,0.574,0.319,0.812,0.314,0.098,0.741,0.847,0.202,0.31,0.073,0.179,0.917,0.64,0.388,0.116,0.72]\n",
    "thresh = 0.5\n",
    "preds = predict(probs, thresh)\n",
    "print(\"Model Predictions: \", preds) # outputting predictions"
   ]
  },
  {
   "cell_type": "markdown",
   "metadata": {},
   "source": [
    "# Calculate the Model Accuracy\n",
    "\n",
    "Write a function from scratch called `acc_score()` that accepts as input a list of true labels and a list of model predictions, and calculates the model accuracy."
   ]
  },
  {
   "cell_type": "code",
   "execution_count": 3,
   "metadata": {},
   "outputs": [],
   "source": [
    "# Creating Model Accuracy score function \n",
    "def acc_score(true_val, pred_val):\n",
    "    acc = 0\n",
    "    for i in range(len(true_val)):\n",
    "        if true_val[i] == pred_val[i]: \n",
    "            acc = acc + 1\n",
    "            \n",
    "    acc = acc / len(true_val)\n",
    "    return acc"
   ]
  },
  {
   "cell_type": "markdown",
   "metadata": {},
   "source": [
    "Next, compute the accuracy score using your function `acc_score`, and pass as input the true labels and the model predictions you calculated above.  Create a list called `labels` containing the target values listed in the problem statement above."
   ]
  },
  {
   "cell_type": "code",
   "execution_count": 4,
   "metadata": {},
   "outputs": [
    {
     "name": "stdout",
     "output_type": "stream",
     "text": [
      "Model Accuracy:  0.85\n"
     ]
    }
   ],
   "source": [
    "labels = [1,0,0,1,0,0,1,0,0,1,1,0,0,0,0,1,0,1,0,1] # Values from Above\n",
    "accuracy = acc_score(preds, labels)\n",
    "print(\"Model Accuracy: \", accuracy) # outputting accuracy "
   ]
  },
  {
   "cell_type": "markdown",
   "metadata": {},
   "source": [
    "Next, use the Scikit-Learn's [accuracy_score()](https://scikit-learn.org/stable/modules/generated/sklearn.metrics.accuracy_score.html) function to check that the value you computed using `acc_score()` is correct."
   ]
  },
  {
   "cell_type": "code",
   "execution_count": 5,
   "metadata": {},
   "outputs": [
    {
     "name": "stdout",
     "output_type": "stream",
     "text": [
      "Model Accuracy 0.85\n"
     ]
    }
   ],
   "source": [
    "# calling accuracy score\n",
    "from sklearn.metrics import accuracy_score\n",
    "print(\"Model Accuracy\", accuracy_score(preds,labels)) # outputting accuracy_score"
   ]
  },
  {
   "cell_type": "markdown",
   "metadata": {},
   "source": [
    "# Calculate the Model Error Rate\n",
    "\n",
    "Write a function from scratch called `error_rate()` that accepts as input a list of true labels and a list of model predictions, and calculates the model error rate.  Your `error_rate()` function should use the `acc_score()` function you previosuly defined."
   ]
  },
  {
   "cell_type": "code",
   "execution_count": 6,
   "metadata": {},
   "outputs": [],
   "source": [
    "# Creating function for model error rate\n",
    "def error_rate(preds, labels):\n",
    "    er = 1 - acc_score(preds, labels)\n",
    "    return er"
   ]
  },
  {
   "cell_type": "markdown",
   "metadata": {},
   "source": [
    "Next, compute the model error rate for the true labels and the model predictions.  Name the error rate that you calculate `error` in your code."
   ]
  },
  {
   "cell_type": "code",
   "execution_count": 7,
   "metadata": {},
   "outputs": [
    {
     "name": "stdout",
     "output_type": "stream",
     "text": [
      "Model Error Rate:  0.15000000000000002\n"
     ]
    }
   ],
   "source": [
    "error = error_rate(preds, labels)\n",
    "print(\"Model Error Rate: \", error) # outputting error rate"
   ]
  },
  {
   "cell_type": "markdown",
   "metadata": {},
   "source": [
    "# Calculate the Model Precision and Recall\n",
    "\n",
    "Write a function from scratch called `prec_recall_score()` that accepts as input a list of true labels and a list of model predictions.  `prec_recall_score()` should compute and return _both_ the model precision and recall.  Do not use the built-in Scikit-Learn functions `precision_score()`,`recall_score()`, `confusion_matrix()`, or Panda's `crosstab()` to do this.  Instead, you may use those functions after to verify your calculations. We want to ensure that you understand what is going on behind-the-scenes of the precision and recall functions by creating similar ones from scratch."
   ]
  },
  {
   "cell_type": "code",
   "execution_count": 8,
   "metadata": {},
   "outputs": [],
   "source": [
    "def prec_recall_score(preds, labels):\n",
    "    true_pos = 0 # true positive\n",
    "    true_neg = 0 # true negative\n",
    "    false_pos = 0 # false negative\n",
    "    false_neg = 0 # false positive \n",
    "    \n",
    "    for i in range(len(preds)):\n",
    "        if preds[i] == 1 and labels[i] == 1: # true positive\n",
    "            true_pos =  true_pos + 1\n",
    "            \n",
    "        if preds[i] == 0 and labels[i] == 0: # true negative\n",
    "            true_neg =  true_neg + 1\n",
    "            \n",
    "        if preds[i] == 1 and labels[i] == 0: # false negative\n",
    "            false_pos =  false_pos + 1\n",
    "            \n",
    "        if preds[i] == 0 and labels[i] == 1: # false positive \n",
    "            false_neg =  false_neg + 1\n",
    "            \n",
    "    # Declaring recall and prec variables\n",
    "    recall = true_pos / (true_pos + false_neg)            \n",
    "    prec = true_pos / (true_pos + false_pos)\n",
    "\n",
    "    \n",
    "    return prec, recall"
   ]
  },
  {
   "cell_type": "markdown",
   "metadata": {},
   "source": [
    "Use your `prec_recall_score` function to compute `precision` and `recall` for the true labels and the model predictions you calculated previously."
   ]
  },
  {
   "cell_type": "code",
   "execution_count": 9,
   "metadata": {},
   "outputs": [
    {
     "name": "stdout",
     "output_type": "stream",
     "text": [
      "Precision =  0.7777777777777778\n",
      "Recall =  0.875\n"
     ]
    }
   ],
   "source": [
    "precision, recall = prec_recall_score(preds, labels) # Calling pre_recall_score function \n",
    "print(\"Precision = \", precision) # outputting precision \n",
    "print(\"Recall = \", recall) # outputting recall "
   ]
  },
  {
   "cell_type": "markdown",
   "metadata": {},
   "source": [
    "Next, use Scikit-Learn's `precision_score()` and `recall_score()` to verify that your calculations above are correct:"
   ]
  },
  {
   "cell_type": "code",
   "execution_count": 10,
   "metadata": {},
   "outputs": [
    {
     "name": "stdout",
     "output_type": "stream",
     "text": [
      "Precision =  0.875\n"
     ]
    }
   ],
   "source": [
    "# Sklearn Precision Score\n",
    "from sklearn.metrics import precision_score ,recall_score\n",
    "print(\"Precision = \", precision_score(preds, labels))"
   ]
  },
  {
   "cell_type": "code",
   "execution_count": 11,
   "metadata": {},
   "outputs": [
    {
     "name": "stdout",
     "output_type": "stream",
     "text": [
      "Recall =  0.7777777777777778\n"
     ]
    }
   ],
   "source": [
    "# Sklearn Recall Score\n",
    "print(\"Recall = \", recall_score(preds, labels))"
   ]
  },
  {
   "cell_type": "markdown",
   "metadata": {},
   "source": [
    "# Calculate $F_\\beta$ Scores\n",
    "\n",
    "Write a function from scratch called `f_beta` that computes the $F_\\beta$ measure for any value of $\\beta$.  This function must invoke the `prec_recall_score` function you wrote above in order to obtain the values for precision and recall.  The function must take as input (in this exact order) the true labels provided, the model predictions you calculated previously, and the value of $\\beta$ you wish to use in the calculation.  We defined $F_\\beta$ in class to be:\n",
    "\n",
    "$$ F_\\beta = \\frac{(\\beta^2+1) \\cdot Pr \\cdot Re}{\\beta^2 \\cdot Pr + Re} $$"
   ]
  },
  {
   "cell_type": "code",
   "execution_count": 12,
   "metadata": {},
   "outputs": [],
   "source": [
    "# Function for f_beta \n",
    "def f_beta (preds, labels, beta): \n",
    "    precision, recall = prec_recall_score(preds, labels)\n",
    "    f_betaa = ((((beta**2) + 1) * precision * recall) /  (beta**2 * precision + recall)) # Formula / calculation for beta \n",
    "    return f_betaa"
   ]
  },
  {
   "cell_type": "markdown",
   "metadata": {},
   "source": [
    "Next, use your `f_beta` function to compute the $F_1$ score for the true labels and the model predictions you calculated previously."
   ]
  },
  {
   "cell_type": "code",
   "execution_count": 13,
   "metadata": {},
   "outputs": [
    {
     "name": "stdout",
     "output_type": "stream",
     "text": [
      "F1 =  0.823529411764706\n"
     ]
    }
   ],
   "source": [
    "F1 = f_beta(preds, labels, 1.0)\n",
    "print(\"F1 = \", F1)"
   ]
  },
  {
   "cell_type": "markdown",
   "metadata": {},
   "source": [
    "Verify your above calculation is correct by invoking Scikit-Learn's `f1_score` function."
   ]
  },
  {
   "cell_type": "code",
   "execution_count": 14,
   "metadata": {},
   "outputs": [
    {
     "name": "stdout",
     "output_type": "stream",
     "text": [
      "f1_score =  0.823529411764706\n"
     ]
    }
   ],
   "source": [
    "from sklearn.metrics import f1_score\n",
    "f1 = f1_score(preds, labels, 1.0)\n",
    "print(\"f1_score = \", f1) # outputting f1_score"
   ]
  },
  {
   "cell_type": "markdown",
   "metadata": {},
   "source": [
    "# Calculate the TPR and FPR for ROC Curve\n",
    "\n",
    "In the subsequent cells, you will be asked to plot an ROC curve.  The ROC curve plots the True Positive Rate (TPR, also called recall) against the False Positive Rate (FPR).  Both of these are scalar values, akin to precision and recall.\n",
    "\n",
    "Write a function from scratch called `TPR_FPR_score` that is nearly identical to `prec_recall_score` that you wrote previously, which computes and returns TPR and FPR.\n",
    "\n",
    "TPR and FPR are defined as follows:\n",
    "\n",
    "$$ TPR = recall = \\frac{TP}{TP + FN} $$\n",
    "\n",
    "$$ FPR = \\frac{FP}{FP + TN} $$"
   ]
  },
  {
   "cell_type": "code",
   "execution_count": 15,
   "metadata": {},
   "outputs": [],
   "source": [
    "# Creating the function for TPR_FPR_score \n",
    "def TPR_FPR_score(preds, labels):\n",
    "    true_pos = 0 # true positive\n",
    "    true_neg = 0 # true negative\n",
    "    false_pos = 0 # false negative\n",
    "    false_neg = 0 # false positive \n",
    "    \n",
    "    for i in range(len(preds)):\n",
    "        if preds[i] == 1 and labels[i] == 1: # true positive\n",
    "            true_pos =  true_pos + 1\n",
    "            \n",
    "        if preds[i] == 0 and labels[i] == 0: # true negative\n",
    "            true_neg =  true_neg + 1\n",
    "            \n",
    "        if preds[i] == 1 and labels[i] == 0: # false negative\n",
    "            false_neg =  false_neg + 1\n",
    "            \n",
    "        if preds[i] == 0 and labels[i] == 1: # false positive \n",
    "            false_pos =  false_pos + 1\n",
    "            \n",
    "    # Declaring recall and prec variables\n",
    "    TPR = true_pos / (true_pos + false_neg)            \n",
    "    FPR = true_pos / (true_pos + false_pos)\n",
    "    \n",
    "    return TPR, FPR"
   ]
  },
  {
   "cell_type": "markdown",
   "metadata": {},
   "source": [
    "# Compute and Plot the ROC Curve\n",
    "\n",
    "Write a function from scratch called `roc_curve_computer` that accepts (in this exact order) as input the true labels and prediction probabilities provided in the problem statement, as well as a list of threshold values.  The function must compute and return the True Positive Rate (TPR, also called recall) and the False Positive Rate (FPR) (these are both scalar values) for each threshold value in the list that is passed to the function.  \n",
    "\n",
    "The TPR will be plotted against the FPR in what is called the Receiver Operating Characteristic (ROC) curve. Your task now is to create the plot of the [ROC](https://scikit-learn.org/stable/auto_examples/model_selection/plot_roc.html). \n",
    "\n",
    "The function you will write behaves identically to Scikit-Learn's [roc_curve](https://scikit-learn.org/stable/modules/generated/sklearn.metrics.roc_curve.html#sklearn.metrics.roc_curve) function, except that it will take the list of thresholds in as input rather than return them as output.  Your function must calculate one value of TPR and one value of FPR for each of the threshold values in the list.  You will then take these TPR and FPR values, and plot them against each other to create the ROC curve.\n",
    "\n",
    "You must not use any built-in library function to perform the calculation of a performance metric.  You may of course use common, built-in Python functions, such as: `range()`, `len()`, et cetera.\n",
    "\n",
    "Be sure to reuse functions and code segments from your work above!\n",
    "\n",
    "As an example, calling the `roc_curve_computer` function with the input `true_labels = [1, 0, 1, 0, 0]`, `pred_probs = [0.875, 0.325, 0.6, 0.09, 0.4]`, and `thresholds = [0.00, 0.25, 0.50, 0.75, 1.00]` yields the output `TPR =  [1.0, 1.0, 1.0, 0.5, 0.0]` and `FPR =  [1.0, 0.6666, 0.0, 0.0, 0.0]`."
   ]
  },
  {
   "cell_type": "code",
   "execution_count": 16,
   "metadata": {},
   "outputs": [],
   "source": [
    "# Creating roc_curve_computer function \n",
    "def roc_curve_computer(labels, prob, thres):\n",
    "    TPR = []\n",
    "    FPR = []\n",
    "    for i in range(len(thres)):\n",
    "        preds = predict(prob,thres[i])\n",
    "        try:\n",
    "            tpr,fpr = TPR_FPR_score(preds, labels)\n",
    "            TPR.append(tpr)\n",
    "            FPR.append(fpr)\n",
    "        except ZeroDivisionError:\n",
    "            tpr,fpr = 0,0\n",
    "    return TPR,FPR"
   ]
  },
  {
   "cell_type": "markdown",
   "metadata": {},
   "source": [
    "Next, use your `roc_curve_computer` function along with the threshold values `thresholds = [x/100 for x in range(101)]` to compute the TPR and FPR lists for the provided data."
   ]
  },
  {
   "cell_type": "code",
   "execution_count": 17,
   "metadata": {},
   "outputs": [],
   "source": [
    "thresholds = [x/100 for x in range(101)]\n",
    "TPR, FPR = roc_curve_computer(labels, probs, thresholds)"
   ]
  },
  {
   "cell_type": "markdown",
   "metadata": {},
   "source": [
    "Use the following funtion to plot the ROC curve.  Pass the FPR and TPR that you calculated above as into to the function."
   ]
  },
  {
   "cell_type": "code",
   "execution_count": 18,
   "metadata": {},
   "outputs": [
    {
     "data": {
      "text/plain": [
       "<Figure size 600x400 with 1 Axes>"
      ]
     },
     "metadata": {},
     "output_type": "display_data"
    }
   ],
   "source": [
    "from matplotlib import pyplot as plt # importing plt too plot graph \n",
    "\n",
    "def plot_roc_curve(fpr, tpr, label=None):\n",
    "    plt.plot(fpr, tpr, linewidth=2, label=label)\n",
    "    plt.plot([0, 1], [0, 1], 'k--') # dashed diagonal line\n",
    "    plt.title('Receiver Operating Characteristic', fontsize=12)\n",
    "    plt.axis([-0.015, 1.0, 0, 1.02])\n",
    "    plt.xlabel('False Positive Rate (Fall-Out)', fontsize=12)\n",
    "    plt.ylabel('True Positive Rate (Recall)', fontsize=12)\n",
    "    plt.grid(True)\n",
    "\n",
    "plt.figure(figsize=(6, 4))\n",
    "plot_roc_curve(FPR, TPR)\n",
    "plt.show()"
   ]
  },
  {
   "cell_type": "markdown",
   "metadata": {},
   "source": [
    "Next, compare your plot to the plot generated by Scikit-Learns `roc_curve` function.  Use Scikit-Learns `roc_curve` function to calculate the false positive rates and the true positive rates."
   ]
  },
  {
   "cell_type": "code",
   "execution_count": 19,
   "metadata": {},
   "outputs": [],
   "source": [
    "from sklearn.metrics import roc_curve  # importing roc_curve \n",
    "fpr, tpr, thresholds = roc_curve(labels, probs)"
   ]
  },
  {
   "cell_type": "markdown",
   "metadata": {},
   "source": [
    "Pass the false positive rates and the true positive rates obtained above via the Scikit-Learn functions as input to the `plot_roc_curve` function in order to compare ROC curves:"
   ]
  },
  {
   "cell_type": "code",
   "execution_count": 20,
   "metadata": {},
   "outputs": [
    {
     "data": {
      "image/png": "[encoded data removed]",
      "text/plain": [
       "<Figure size 432x288 with 1 Axes>"
      ]
     },
     "metadata": {
      "needs_background": "light"
     },
     "output_type": "display_data"
    }
   ],
   "source": [
    "# Plotting graph with roc courve\n",
    "plt.figure(figsize=(6, 4))\n",
    "plot_roc_curve(fpr, tpr)\n",
    "plt.show()"
   ]
  },
  {
   "cell_type": "code",
   "execution_count": null,
   "metadata": {},
   "outputs": [],
   "source": []
  },
  {
   "cell_type": "code",
   "execution_count": null,
   "metadata": {},
   "outputs": [],
   "source": []
  }
 ],
 "metadata": {
  "kernelspec": {
   "display_name": "Python 3",
   "language": "python",
   "name": "python3"
  },
  "language_info": {
   "codemirror_mode": {
    "name": "ipython",
    "version": 3
   },
   "file_extension": ".py",
   "mimetype": "text/x-python",
   "name": "python",
   "nbconvert_exporter": "python",
   "pygments_lexer": "ipython3",
   "version": "3.7.4"
  }
 },
 "nbformat": 4,
 "nbformat_minor": 2
}
