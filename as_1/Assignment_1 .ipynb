{
 "cells": [
  {
   "cell_type": "markdown",
   "metadata": {
    "id": "GuLrF0DUfGNO"
   },
   "source": [
    "# CSCI405: Artificial Intelligence\n",
    "## Module 1\n",
    "## Assignment 1: Johnny Likes Pie\n",
    "\n",
    "#### Name:"
   ]
  },
  {
   "cell_type": "markdown",
   "metadata": {
    "id": "QSPflJeHfGNR"
   },
   "source": [
    "This assignment is similiar to the golf example.  So, you should begin by watching the video called \"Should You Play Golf Today?\" and complete the Jupyter Notebook called PlayGolfRegression_template.ipynb.  \n",
    "\n",
    "You will build a model that predicts whether or not Johnny likes a particular pie. You will do this by reading in the data, performing a one-hot encoding, and fitting the data to a linear regression model.  Then, you will make a prediction using the model along with a threshold value of 0.5, which is used to compare against in making a classification decision.\n",
    "\n",
    "The following data describes features of different types of pie, along with a positive or negative classification of that pie based whether or not Johnny likes it.  A positive classification means Johnny likes that pie; a negative classification means Johnny does not like that pie.\n",
    "\n",
    "<img src=\"JohnnyPies.png \" width =\"600\" />\n",
    "\n",
    "Begin by placing the data file called `JohnnyPiesData.csv` and this Jupyter notebook in the same directory.\n",
    "\n",
    "## Import Data\n",
    "\n",
    "\n",
    "1. Use the [read_csv()](https://pandas.pydata.org/pandas-docs/stable/reference/api/pandas.read_csv.html) function to read in data from a comma-separated values (csv) file to a Pandas DataFrame called `pie_df`.\n",
    "\n",
    "2. Display the DataFrame (by typing `pie_df`)"
   ]
  },
  {
   "cell_type": "code",
   "execution_count": 1,
   "metadata": {
    "id": "Cpi_bWKOfGNS"
   },
   "outputs": [
    {
     "data": {
      "text/html": [
       "<div>\n",
       "<style scoped>\n",
       "    .dataframe tbody tr th:only-of-type {\n",
       "        vertical-align: middle;\n",
       "    }\n",
       "\n",
       "    .dataframe tbody tr th {\n",
       "        vertical-align: top;\n",
       "    }\n",
       "\n",
       "    .dataframe thead th {\n",
       "        text-align: right;\n",
       "    }\n",
       "</style>\n",
       "<table border=\"1\" class=\"dataframe\">\n",
       "  <thead>\n",
       "    <tr style=\"text-align: right;\">\n",
       "      <th></th>\n",
       "      <th>Example</th>\n",
       "      <th>Crust Shape</th>\n",
       "      <th>Crust Size</th>\n",
       "      <th>Crust Shade</th>\n",
       "      <th>Filling Size</th>\n",
       "      <th>Filling Shade</th>\n",
       "      <th>Class</th>\n",
       "    </tr>\n",
       "  </thead>\n",
       "  <tbody>\n",
       "    <tr>\n",
       "      <td>0</td>\n",
       "      <td>ex1</td>\n",
       "      <td>Circle</td>\n",
       "      <td>Thick</td>\n",
       "      <td>Gray</td>\n",
       "      <td>Thick</td>\n",
       "      <td>Dark</td>\n",
       "      <td>pos</td>\n",
       "    </tr>\n",
       "    <tr>\n",
       "      <td>1</td>\n",
       "      <td>ex2</td>\n",
       "      <td>Circle</td>\n",
       "      <td>Thick</td>\n",
       "      <td>White</td>\n",
       "      <td>Thick</td>\n",
       "      <td>Dark</td>\n",
       "      <td>pos</td>\n",
       "    </tr>\n",
       "    <tr>\n",
       "      <td>2</td>\n",
       "      <td>ex3</td>\n",
       "      <td>Triangle</td>\n",
       "      <td>Thick</td>\n",
       "      <td>Dark</td>\n",
       "      <td>Thick</td>\n",
       "      <td>Gray</td>\n",
       "      <td>pos</td>\n",
       "    </tr>\n",
       "    <tr>\n",
       "      <td>3</td>\n",
       "      <td>ex4</td>\n",
       "      <td>Circle</td>\n",
       "      <td>Thin</td>\n",
       "      <td>White</td>\n",
       "      <td>Thin</td>\n",
       "      <td>Dark</td>\n",
       "      <td>pos</td>\n",
       "    </tr>\n",
       "    <tr>\n",
       "      <td>4</td>\n",
       "      <td>ex5</td>\n",
       "      <td>Square</td>\n",
       "      <td>Thick</td>\n",
       "      <td>Dark</td>\n",
       "      <td>Thin</td>\n",
       "      <td>White</td>\n",
       "      <td>pos</td>\n",
       "    </tr>\n",
       "    <tr>\n",
       "      <td>5</td>\n",
       "      <td>ex6</td>\n",
       "      <td>Circle</td>\n",
       "      <td>Thick</td>\n",
       "      <td>White</td>\n",
       "      <td>Thin</td>\n",
       "      <td>Dark</td>\n",
       "      <td>pos</td>\n",
       "    </tr>\n",
       "    <tr>\n",
       "      <td>6</td>\n",
       "      <td>ex7</td>\n",
       "      <td>Circle</td>\n",
       "      <td>Thick</td>\n",
       "      <td>Gray</td>\n",
       "      <td>Thick</td>\n",
       "      <td>White</td>\n",
       "      <td>neg</td>\n",
       "    </tr>\n",
       "    <tr>\n",
       "      <td>7</td>\n",
       "      <td>ex8</td>\n",
       "      <td>Square</td>\n",
       "      <td>Thick</td>\n",
       "      <td>White</td>\n",
       "      <td>Thick</td>\n",
       "      <td>Gray</td>\n",
       "      <td>neg</td>\n",
       "    </tr>\n",
       "    <tr>\n",
       "      <td>8</td>\n",
       "      <td>ex9</td>\n",
       "      <td>Triangle</td>\n",
       "      <td>Thin</td>\n",
       "      <td>Gray</td>\n",
       "      <td>Thin</td>\n",
       "      <td>Dark</td>\n",
       "      <td>neg</td>\n",
       "    </tr>\n",
       "    <tr>\n",
       "      <td>9</td>\n",
       "      <td>ex10</td>\n",
       "      <td>Circle</td>\n",
       "      <td>Thick</td>\n",
       "      <td>Dark</td>\n",
       "      <td>Thick</td>\n",
       "      <td>White</td>\n",
       "      <td>neg</td>\n",
       "    </tr>\n",
       "    <tr>\n",
       "      <td>10</td>\n",
       "      <td>ex11</td>\n",
       "      <td>Square</td>\n",
       "      <td>Thick</td>\n",
       "      <td>White</td>\n",
       "      <td>Thick</td>\n",
       "      <td>Dark</td>\n",
       "      <td>neg</td>\n",
       "    </tr>\n",
       "    <tr>\n",
       "      <td>11</td>\n",
       "      <td>ex12</td>\n",
       "      <td>Triangle</td>\n",
       "      <td>Thick</td>\n",
       "      <td>White</td>\n",
       "      <td>Thick</td>\n",
       "      <td>Gray</td>\n",
       "      <td>neg</td>\n",
       "    </tr>\n",
       "  </tbody>\n",
       "</table>\n",
       "</div>"
      ],
      "text/plain": [
       "   Example Crust Shape Crust Size Crust Shade Filling Size Filling Shade Class\n",
       "0      ex1      Circle      Thick        Gray        Thick          Dark   pos\n",
       "1      ex2      Circle      Thick       White        Thick          Dark   pos\n",
       "2      ex3    Triangle      Thick        Dark        Thick          Gray   pos\n",
       "3      ex4      Circle       Thin       White         Thin          Dark   pos\n",
       "4      ex5      Square      Thick        Dark         Thin         White   pos\n",
       "5      ex6      Circle      Thick       White         Thin          Dark   pos\n",
       "6      ex7      Circle      Thick        Gray        Thick         White   neg\n",
       "7      ex8      Square      Thick       White        Thick          Gray   neg\n",
       "8      ex9    Triangle       Thin        Gray         Thin          Dark   neg\n",
       "9     ex10      Circle      Thick        Dark        Thick         White   neg\n",
       "10    ex11      Square      Thick       White        Thick          Dark   neg\n",
       "11    ex12    Triangle      Thick       White        Thick          Gray   neg"
      ]
     },
     "execution_count": 1,
     "metadata": {},
     "output_type": "execute_result"
    }
   ],
   "source": [
    "# Importing pandas Library in order too create dataframe\n",
    "import pandas as pd\n",
    "\n",
    "fileName = \"JohnnyPiesData.csv\"\n",
    "\n",
    "# Setting the variable for the dataframe\n",
    "pie_df = pd.read_csv(\"JohnnyPiesData.csv\")\n",
    "pie_df"
   ]
  },
  {
   "cell_type": "markdown",
   "metadata": {
    "id": "Xu5FjlTOfGNS"
   },
   "source": [
    "## Prepare Data for Linear Regression"
   ]
  },
  {
   "cell_type": "markdown",
   "metadata": {
    "id": "hfnWAdL5fGNT"
   },
   "source": [
    "1. Drop the `Example` column from the `pie_df` DataFrame, because it offers no information.\n",
    "\n",
    "2. Encode all categorical data into numeric data via the \"One Hot Encoding\" technique provided by the Pandas [get_dummies()](https://pandas.pydata.org/pandas-docs/stable/reference/api/pandas.get_dummies.html) function.  Display this DataFrame.\n",
    "\n",
    "3. Since we are performing ordinary least squares linear regression, we will drop one of the newly created Boolean-valued features (output from the `get_dummies()` function) to prevent introducing unwanted correlation in the data.\n",
    "\n",
    "4. Store the final features in a DataFrame called `features`, and store the positive class labels in a DataFrame called `response`.  Display both of these DataFrames."
   ]
  },
  {
   "cell_type": "code",
   "execution_count": 2,
   "metadata": {
    "id": "PNCwWOA_fGNT"
   },
   "outputs": [
    {
     "name": "stdout",
     "output_type": "stream",
     "text": [
      "    Crust Shape_Square  Crust Shape_Triangle  Crust Size_Thin  \\\n",
      "0                    0                     0                0   \n",
      "1                    0                     0                0   \n",
      "2                    0                     1                0   \n",
      "3                    0                     0                1   \n",
      "4                    1                     0                0   \n",
      "5                    0                     0                0   \n",
      "6                    0                     0                0   \n",
      "7                    1                     0                0   \n",
      "8                    0                     1                1   \n",
      "9                    0                     0                0   \n",
      "10                   1                     0                0   \n",
      "11                   0                     1                0   \n",
      "\n",
      "    Crust Shade_Gray  Crust Shade_White  Filling Size_Thin  \\\n",
      "0                  1                  0                  0   \n",
      "1                  0                  1                  0   \n",
      "2                  0                  0                  0   \n",
      "3                  0                  1                  1   \n",
      "4                  0                  0                  1   \n",
      "5                  0                  1                  1   \n",
      "6                  1                  0                  0   \n",
      "7                  0                  1                  0   \n",
      "8                  1                  0                  1   \n",
      "9                  0                  0                  0   \n",
      "10                 0                  1                  0   \n",
      "11                 0                  1                  0   \n",
      "\n",
      "    Filling Shade_Gray  Filling Shade_White  Class_pos  \n",
      "0                    0                    0          1  \n",
      "1                    0                    0          1  \n",
      "2                    1                    0          1  \n",
      "3                    0                    0          1  \n",
      "4                    0                    1          1  \n",
      "5                    0                    0          1  \n",
      "6                    0                    1          0  \n",
      "7                    1                    0          0  \n",
      "8                    0                    0          0  \n",
      "9                    0                    1          0  \n",
      "10                   0                    0          0  \n",
      "11                   1                    0          0  \n",
      "    Class_pos\n",
      "0           1\n",
      "1           1\n",
      "2           1\n",
      "3           1\n",
      "4           1\n",
      "5           1\n",
      "6           0\n",
      "7           0\n",
      "8           0\n",
      "9           0\n",
      "10          0\n",
      "11          0\n"
     ]
    }
   ],
   "source": [
    "# Dropping example column from pie_df\n",
    "X = pie_df.drop(['Example'], axis = 1);\n",
    "\n",
    "# Dropping the first Boolean-valued feature\n",
    "Y = pd.get_dummies(X, drop_first = True)\n",
    "\n",
    "#insistation of both features and response datafram\n",
    "features = Y\n",
    "response = Y[[\"Class_pos\"]]\n",
    "\n",
    "# Output of both features and response dataframe\n",
    "print(features)\n",
    "print(response)\n",
    "\n",
    "# You may create more cells throughout as needed, \n",
    "# but your final submission must be neat and concise"
   ]
  },
  {
   "cell_type": "markdown",
   "metadata": {
    "id": "WUkk47RlfGNT"
   },
   "source": [
    "## Perfrom Linear Regression Model Fitting\n",
    "\n",
    "1. Import the [LinearRegression](https://scikit-learn.org/stable/modules/generated/sklearn.linear_model.LinearRegression.html) class from the `sklearn.linear_model` library. \n",
    "\n",
    "2. Instantiate an object of the `LinearRegression` class called `reg_model`.\n",
    "\n",
    "3. Train the model by invoking the `fit()` method of the `reg_model` object and passing it `features` and `response`."
   ]
  },
  {
   "cell_type": "code",
   "execution_count": 3,
   "metadata": {
    "id": "KLGCSNUpfGNU"
   },
   "outputs": [
    {
     "data": {
      "text/plain": [
       "LinearRegression(copy_X=True, fit_intercept=True, n_jobs=None, normalize=False)"
      ]
     },
     "execution_count": 3,
     "metadata": {},
     "output_type": "execute_result"
    }
   ],
   "source": [
    "# Importation of  LinearRegression class from the sklearn.linear_model library.\n",
    "from sklearn.linear_model import LinearRegression\n",
    "\n",
    "# Instition of object reg_model, from class LinearRegression\n",
    "reg_model = LinearRegression()\n",
    "\n",
    "# Trained Model\n",
    "reg_model.fit(features, response)\n",
    "\n",
    "# Outputting linear Regression Model\n",
    "reg_model"
   ]
  },
  {
   "cell_type": "markdown",
   "metadata": {
    "id": "wzyTUxL4fGNU"
   },
   "source": [
    "## Examine Linear Regression Model Parameters\n",
    "\n",
    "1. View the trained model parameters by using the `coef_` and `intercept_` attributes of the trained model."
   ]
  },
  {
   "cell_type": "code",
   "execution_count": 4,
   "metadata": {
    "id": "r4o4fT4kfGNU"
   },
   "outputs": [
    {
     "name": "stdout",
     "output_type": "stream",
     "text": [
      "[[ 7.10101032e-17  4.04232324e-16  1.99934341e-16  8.47958004e-17\n",
      "   2.22147661e-16  1.03678692e-16 -2.84443122e-16  6.85986382e-17\n",
      "   1.00000000e+00]]\n",
      "[0.]\n"
     ]
    }
   ],
   "source": [
    "# Displays linear Regression model coefficients\n",
    "print(reg_model.coef_)\n",
    "\n",
    "# Displays linear Regression model intercept\n",
    "print(reg_model.intercept_)"
   ]
  },
  {
   "cell_type": "markdown",
   "metadata": {
    "id": "EC5fwc0kfGNV"
   },
   "source": [
    "## Making Predictions Using the Linear Regression Model\n",
    "\n",
    "1. Evaluate the model's performance on the training data set by invoking the `predict()` method and passing `features` to it. \n"
   ]
  },
  {
   "cell_type": "code",
   "execution_count": 5,
   "metadata": {
    "id": "w6mRgDYNfGNV"
   },
   "outputs": [
    {
     "data": {
      "text/plain": [
       "array([[1.00000000e+00],\n",
       "       [1.00000000e+00],\n",
       "       [1.00000000e+00],\n",
       "       [1.00000000e+00],\n",
       "       [1.00000000e+00],\n",
       "       [1.00000000e+00],\n",
       "       [1.53394439e-16],\n",
       "       [8.71464253e-18],\n",
       "       [7.92641158e-16],\n",
       "       [6.85986382e-17],\n",
       "       [2.93157764e-16],\n",
       "       [3.41936864e-16]])"
      ]
     },
     "execution_count": 5,
     "metadata": {},
     "output_type": "execute_result"
    }
   ],
   "source": [
    "# Predict funcation which makes a predicition on training set \n",
    "reg_model.predict(features)"
   ]
  },
  {
   "cell_type": "markdown",
   "metadata": {
    "id": "uAkyR3AkfGNV"
   },
   "source": [
    "Below are the results from the linear regression model:\n",
    "\n",
    "The column \"Class_pos\" regards the \"positive\" or negative classification of the pie.  The column \"Regression_Predictions\" regards the predictions made by the linear regression model directly.  The column \"Predicted_Responses\" are the adjusted prdeictions made by the model after employing the cut-off values of 0 being 0 <= x <= 0.5 and 1 being 0.5 < x <= 1.0."
   ]
  },
  {
   "cell_type": "code",
   "execution_count": 6,
   "metadata": {
    "id": "S-PfvjaSfGNV"
   },
   "outputs": [
    {
     "data": {
      "text/html": [
       "<div>\n",
       "<style scoped>\n",
       "    .dataframe tbody tr th:only-of-type {\n",
       "        vertical-align: middle;\n",
       "    }\n",
       "\n",
       "    .dataframe tbody tr th {\n",
       "        vertical-align: top;\n",
       "    }\n",
       "\n",
       "    .dataframe thead th {\n",
       "        text-align: right;\n",
       "    }\n",
       "</style>\n",
       "<table border=\"1\" class=\"dataframe\">\n",
       "  <thead>\n",
       "    <tr style=\"text-align: right;\">\n",
       "      <th></th>\n",
       "      <th>Class_pos</th>\n",
       "      <th>Regression_Predictions</th>\n",
       "      <th>Predicted_Responses</th>\n",
       "    </tr>\n",
       "  </thead>\n",
       "  <tbody>\n",
       "    <tr>\n",
       "      <td>0</td>\n",
       "      <td>1</td>\n",
       "      <td>1.000000e+00</td>\n",
       "      <td>1</td>\n",
       "    </tr>\n",
       "    <tr>\n",
       "      <td>1</td>\n",
       "      <td>1</td>\n",
       "      <td>1.000000e+00</td>\n",
       "      <td>1</td>\n",
       "    </tr>\n",
       "    <tr>\n",
       "      <td>2</td>\n",
       "      <td>1</td>\n",
       "      <td>1.000000e+00</td>\n",
       "      <td>1</td>\n",
       "    </tr>\n",
       "    <tr>\n",
       "      <td>3</td>\n",
       "      <td>1</td>\n",
       "      <td>1.000000e+00</td>\n",
       "      <td>1</td>\n",
       "    </tr>\n",
       "    <tr>\n",
       "      <td>4</td>\n",
       "      <td>1</td>\n",
       "      <td>1.000000e+00</td>\n",
       "      <td>1</td>\n",
       "    </tr>\n",
       "    <tr>\n",
       "      <td>5</td>\n",
       "      <td>1</td>\n",
       "      <td>1.000000e+00</td>\n",
       "      <td>1</td>\n",
       "    </tr>\n",
       "    <tr>\n",
       "      <td>6</td>\n",
       "      <td>0</td>\n",
       "      <td>1.533944e-16</td>\n",
       "      <td>0</td>\n",
       "    </tr>\n",
       "    <tr>\n",
       "      <td>7</td>\n",
       "      <td>0</td>\n",
       "      <td>8.714643e-18</td>\n",
       "      <td>0</td>\n",
       "    </tr>\n",
       "    <tr>\n",
       "      <td>8</td>\n",
       "      <td>0</td>\n",
       "      <td>7.926412e-16</td>\n",
       "      <td>0</td>\n",
       "    </tr>\n",
       "    <tr>\n",
       "      <td>9</td>\n",
       "      <td>0</td>\n",
       "      <td>6.859864e-17</td>\n",
       "      <td>0</td>\n",
       "    </tr>\n",
       "    <tr>\n",
       "      <td>10</td>\n",
       "      <td>0</td>\n",
       "      <td>2.931578e-16</td>\n",
       "      <td>0</td>\n",
       "    </tr>\n",
       "    <tr>\n",
       "      <td>11</td>\n",
       "      <td>0</td>\n",
       "      <td>3.419369e-16</td>\n",
       "      <td>0</td>\n",
       "    </tr>\n",
       "  </tbody>\n",
       "</table>\n",
       "</div>"
      ],
      "text/plain": [
       "    Class_pos  Regression_Predictions  Predicted_Responses\n",
       "0           1            1.000000e+00                    1\n",
       "1           1            1.000000e+00                    1\n",
       "2           1            1.000000e+00                    1\n",
       "3           1            1.000000e+00                    1\n",
       "4           1            1.000000e+00                    1\n",
       "5           1            1.000000e+00                    1\n",
       "6           0            1.533944e-16                    0\n",
       "7           0            8.714643e-18                    0\n",
       "8           0            7.926412e-16                    0\n",
       "9           0            6.859864e-17                    0\n",
       "10          0            2.931578e-16                    0\n",
       "11          0            3.419369e-16                    0"
      ]
     },
     "execution_count": 6,
     "metadata": {},
     "output_type": "execute_result"
    }
   ],
   "source": [
    "import numpy as np\n",
    "\n",
    "# resp_comp = Response Comparison\n",
    "\n",
    "resp_comp = response.copy() \n",
    "reg_outputs = [float(reg_model.predict(np.reshape(row, (1, -1)))) for row in features.itertuples(index=False)]\n",
    "predicted_resp = np.array([1 if reg_output >= 0.5 else 0 for reg_output in reg_outputs])\n",
    "resp_comp = resp_comp.assign(Regression_Predictions = reg_outputs)\n",
    "resp_comp = resp_comp.assign(Predicted_Responses = predicted_resp)\n",
    "resp_comp"
   ]
  },
  {
   "cell_type": "markdown",
   "metadata": {
    "id": "pPOmNji2fGNW"
   },
   "source": [
    "## Calculate Model Accuracy\n",
    "\n",
    "1. Use the [accuracy_score()](https://scikit-learn.org/stable/modules/generated/sklearn.metrics.accuracy_score.html) function to calculate the accuracy score of the model."
   ]
  },
  {
   "cell_type": "code",
   "execution_count": 8,
   "metadata": {
    "id": "0MIfm1CpfGNW"
   },
   "outputs": [
    {
     "name": "stdout",
     "output_type": "stream",
     "text": [
      "accuracy score:  1.0\n"
     ]
    }
   ],
   "source": [
    "# Importation of sklearn metrics\n",
    "from sklearn.metrics import accuracy_score\n",
    "\n",
    "# Outputting accuracy score \n",
    "print(\"accuracy score: \",accuracy_score(resp_comp['Class_pos'], resp_comp['Predicted_Responses']))"
   ]
  }
 ],
 "metadata": {
  "colab": {
   "collapsed_sections": [],
   "name": "Assignment_1.ipynb",
   "provenance": []
  },
  "kernelspec": {
   "display_name": "Python 3",
   "language": "python",
   "name": "python3"
  },
  "language_info": {
   "codemirror_mode": {
    "name": "ipython",
    "version": 3
   },
   "file_extension": ".py",
   "mimetype": "text/x-python",
   "name": "python",
   "nbconvert_exporter": "python",
   "pygments_lexer": "ipython3",
   "version": "3.7.4"
  }
 },
 "nbformat": 4,
 "nbformat_minor": 1
}
